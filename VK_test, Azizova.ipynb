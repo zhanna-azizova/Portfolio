{
 "cells": [
  {
   "cell_type": "code",
   "execution_count": 1,
   "metadata": {},
   "outputs": [
    {
     "data": {
      "text/html": [
       "        <script type=\"text/javascript\">\n",
       "        window.PlotlyConfig = {MathJaxConfig: 'local'};\n",
       "        if (window.MathJax) {MathJax.Hub.Config({SVG: {font: \"STIX-Web\"}});}\n",
       "        if (typeof require !== 'undefined') {\n",
       "        require.undef(\"plotly\");\n",
       "        requirejs.config({\n",
       "            paths: {\n",
       "                'plotly': ['https://cdn.plot.ly/plotly-latest.min']\n",
       "            }\n",
       "        });\n",
       "        require(['plotly'], function(Plotly) {\n",
       "            window._Plotly = Plotly;\n",
       "        });\n",
       "        }\n",
       "        </script>\n",
       "        "
      ]
     },
     "metadata": {},
     "output_type": "display_data"
    }
   ],
   "source": [
    "# load libraries\n",
    "from datetime import datetime, time, timedelta\n",
    "from plotly.offline import download_plotlyjs, init_notebook_mode, plot, iplot\n",
    "\n",
    "import numpy as np\n",
    "import pandas as pd\n",
    "import datetime as dt\n",
    "import plotly\n",
    "import plotly.graph_objs as go\n",
    "\n",
    "init_notebook_mode(connected=True)\n",
    "\n",
    "import warnings\n",
    "warnings.filterwarnings(\"ignore\")"
   ]
  },
  {
   "cell_type": "code",
   "execution_count": 2,
   "metadata": {
    "collapsed": true
   },
   "outputs": [],
   "source": [
    "def detalized_graphs(data, entity, x, y, title):\n",
    "    \n",
    "    data_for_plot = []\n",
    "\n",
    "    for ent in set(data[entity]):\n",
    "\n",
    "        entity_data = data[data[entity] == ent]\n",
    "        trace = go.Scatter(x=entity_data[x],y=entity_data[y], name = ent)\n",
    "        data_for_plot.append(trace)\n",
    "\n",
    "    # Set the title\n",
    "    layout = {'title': title}\n",
    "\n",
    "    # Create a Figure and plot it\n",
    "    fig = go.Figure(data=data_for_plot, layout=layout)\n",
    "    iplot(fig, show_link=False)"
   ]
  },
  {
   "cell_type": "markdown",
   "metadata": {},
   "source": [
    "**Задача:**\n",
    "1. Воспроизведите график числа рекламных событий по дням. \n",
    "2. Найдите причину резкого увеличения количества рекламных событий и объясните, что произошло. \n",
    "3. Предложите способ, который помог бы автоматически детектировать аномальные изменения метрик на графиках рекламной статистики. Иными словами, предложите алгоритм, который каждое утро анализирует данные за прошедшие сутки, и, если они сильно выбиваются из общего тренда, отправляет аналитику уведомление: на этом графике есть проблема за вчерашний день. Подумайте, как сделать детектор, который проверяет на аномалии каждый час, каждые пять минут в графике? \n",
    "Предложите вариант кода, который решает эту задачу. Реализовывать логику нотификации не нужно, только поиск аномального дня, часа, пятиминутки в данных рекламной статистики. \n",
    "\n",
    "Немного дополнительной информации о структуре рекламы ВКонтакте. Есть две основные группы рекламодателей: агентства и клиенты. Агентствами являются рекламные кабинеты юридических лиц. Среди клиентов же существуют как клиенты этих самых агентств, так и автономные рекламные кабинеты физических лиц, над которыми нет агентств. Рекламные кампании — это наборы рекламных объявлений. Они есть в каждом кабинете. \n"
   ]
  },
  {
   "cell_type": "code",
   "execution_count": 3,
   "metadata": {
    "collapsed": true
   },
   "outputs": [],
   "source": [
    "data = pd.read_csv('test_data.csv')"
   ]
  },
  {
   "cell_type": "markdown",
   "metadata": {},
   "source": [
    "** Значения полей**  \n",
    "* time — время взаимодействия пользователя с рекламой в формате UnixTime;\n",
    "* event — тип взаимодействия (click — клик на объявление, view — показ объявления, report — жалоба на объявление);\n",
    "* ad_cost_type — тип трат рекламного объявления (CPM — траты за 1000 показов, CPC — траты за клик);\n",
    "* has_video — наличие видео в объявлении (0 — нет, 1 — есть);\n",
    "* agency_union_id — id рекламного агентства (если рекламный кабинет принадлежит физическому лицу, то ячейка будет заполнена значением 'no_agency');\n",
    "* client_union_id — id рекламного клиента;\n",
    "* campaign_union_id — id рекламной кампании;\n",
    "* ad_id — id рекламного объявления;\n",
    "* platform — платформа, с которой пользователь взаимодействовал с рекламой (web — веб-версия, mvk — мобильная версия, * iphone — IOS-приложение, android — Android-приложение, wphone — Windows Phone-приложение)."
   ]
  },
  {
   "cell_type": "code",
   "execution_count": 4,
   "metadata": {},
   "outputs": [
    {
     "data": {
      "text/plain": [
       "view      87975\n",
       "click     28639\n",
       "report     5483\n",
       "Name: event, dtype: int64"
      ]
     },
     "execution_count": 4,
     "metadata": {},
     "output_type": "execute_result"
    }
   ],
   "source": [
    "data['event'].value_counts() # Из общего числа логов по каждому типу действия, выбивается количество показов объявлений"
   ]
  },
  {
   "cell_type": "code",
   "execution_count": 5,
   "metadata": {
    "scrolled": true
   },
   "outputs": [
    {
     "data": {
      "text/html": [
       "<div>\n",
       "<style>\n",
       "    .dataframe thead tr:only-child th {\n",
       "        text-align: right;\n",
       "    }\n",
       "\n",
       "    .dataframe thead th {\n",
       "        text-align: left;\n",
       "    }\n",
       "\n",
       "    .dataframe tbody tr th {\n",
       "        vertical-align: top;\n",
       "    }\n",
       "</style>\n",
       "<table border=\"1\" class=\"dataframe\">\n",
       "  <thead>\n",
       "    <tr style=\"text-align: right;\">\n",
       "      <th></th>\n",
       "      <th>time</th>\n",
       "      <th>event</th>\n",
       "      <th>ad_cost_type</th>\n",
       "      <th>has_video</th>\n",
       "      <th>agency_union_id</th>\n",
       "      <th>client_union_id</th>\n",
       "      <th>campaign_union_id</th>\n",
       "      <th>ad_id</th>\n",
       "      <th>platform</th>\n",
       "      <th>date</th>\n",
       "    </tr>\n",
       "  </thead>\n",
       "  <tbody>\n",
       "    <tr>\n",
       "      <th>0</th>\n",
       "      <td>1.554744e+09</td>\n",
       "      <td>report</td>\n",
       "      <td>CPM</td>\n",
       "      <td>0</td>\n",
       "      <td>no_agency</td>\n",
       "      <td>client_21074</td>\n",
       "      <td>campaign_27489</td>\n",
       "      <td>ad_27489</td>\n",
       "      <td>android</td>\n",
       "      <td>2019-04-08</td>\n",
       "    </tr>\n",
       "    <tr>\n",
       "      <th>1</th>\n",
       "      <td>1.555103e+09</td>\n",
       "      <td>click</td>\n",
       "      <td>CPM</td>\n",
       "      <td>0</td>\n",
       "      <td>no_agency</td>\n",
       "      <td>client_22392</td>\n",
       "      <td>campaign_35893</td>\n",
       "      <td>ad_35893</td>\n",
       "      <td>android</td>\n",
       "      <td>2019-04-12</td>\n",
       "    </tr>\n",
       "    <tr>\n",
       "      <th>2</th>\n",
       "      <td>1.555403e+09</td>\n",
       "      <td>click</td>\n",
       "      <td>CPM</td>\n",
       "      <td>0</td>\n",
       "      <td>no_agency</td>\n",
       "      <td>client_16836</td>\n",
       "      <td>campaign_26799</td>\n",
       "      <td>ad_26804</td>\n",
       "      <td>web</td>\n",
       "      <td>2019-04-16</td>\n",
       "    </tr>\n",
       "    <tr>\n",
       "      <th>3</th>\n",
       "      <td>1.554822e+09</td>\n",
       "      <td>click</td>\n",
       "      <td>CPM</td>\n",
       "      <td>0</td>\n",
       "      <td>no_agency</td>\n",
       "      <td>client_22920</td>\n",
       "      <td>campaign_37146</td>\n",
       "      <td>ad_37146</td>\n",
       "      <td>android</td>\n",
       "      <td>2019-04-09</td>\n",
       "    </tr>\n",
       "    <tr>\n",
       "      <th>4</th>\n",
       "      <td>1.554967e+09</td>\n",
       "      <td>click</td>\n",
       "      <td>CPM</td>\n",
       "      <td>0</td>\n",
       "      <td>no_agency</td>\n",
       "      <td>client_645</td>\n",
       "      <td>campaign_15893</td>\n",
       "      <td>ad_15944</td>\n",
       "      <td>web</td>\n",
       "      <td>2019-04-11</td>\n",
       "    </tr>\n",
       "  </tbody>\n",
       "</table>\n",
       "</div>"
      ],
      "text/plain": [
       "           time   event ad_cost_type  has_video agency_union_id  \\\n",
       "0  1.554744e+09  report          CPM          0       no_agency   \n",
       "1  1.555103e+09   click          CPM          0       no_agency   \n",
       "2  1.555403e+09   click          CPM          0       no_agency   \n",
       "3  1.554822e+09   click          CPM          0       no_agency   \n",
       "4  1.554967e+09   click          CPM          0       no_agency   \n",
       "\n",
       "  client_union_id campaign_union_id     ad_id platform        date  \n",
       "0    client_21074    campaign_27489  ad_27489  android  2019-04-08  \n",
       "1    client_22392    campaign_35893  ad_35893  android  2019-04-12  \n",
       "2    client_16836    campaign_26799  ad_26804      web  2019-04-16  \n",
       "3    client_22920    campaign_37146  ad_37146  android  2019-04-09  \n",
       "4      client_645    campaign_15893  ad_15944      web  2019-04-11  "
      ]
     },
     "execution_count": 5,
     "metadata": {},
     "output_type": "execute_result"
    }
   ],
   "source": [
    "data.head()"
   ]
  },
  {
   "cell_type": "code",
   "execution_count": 6,
   "metadata": {},
   "outputs": [],
   "source": [
    "data['time'] = data['time'].apply(lambda x: dt.datetime.fromtimestamp(x))"
   ]
  },
  {
   "cell_type": "code",
   "execution_count": 7,
   "metadata": {
    "collapsed": true
   },
   "outputs": [],
   "source": [
    "df = data.groupby(['date','event']).size().reset_index(name = 'n_events')"
   ]
  },
  {
   "cell_type": "code",
   "execution_count": 8,
   "metadata": {},
   "outputs": [
    {
     "data": {
      "application/vnd.plotly.v1+json": {
       "config": {
        "linkText": "Export to plot.ly",
        "plotlyServerURL": "https://plot.ly",
        "responsive": true,
        "showLink": false
       },
       "data": [
        {
         "name": "click",
         "type": "scatter",
         "uid": "0d01ddab-a1ab-4d68-ac7b-9e50db9eff02",
         "x": [
          "2019-04-01",
          "2019-04-02",
          "2019-04-03",
          "2019-04-04",
          "2019-04-05",
          "2019-04-06",
          "2019-04-07",
          "2019-04-08",
          "2019-04-09",
          "2019-04-10",
          "2019-04-11",
          "2019-04-12",
          "2019-04-13",
          "2019-04-14",
          "2019-04-15",
          "2019-04-16"
         ],
         "y": [
          1827,
          1898,
          1837,
          1871,
          2188,
          1577,
          1510,
          1545,
          1784,
          1909,
          1811,
          1840,
          1427,
          1540,
          1742,
          2333
         ]
        },
        {
         "name": "report",
         "type": "scatter",
         "uid": "7de051db-e622-4514-b820-2f6f85c7982f",
         "x": [
          "2019-04-01",
          "2019-04-02",
          "2019-04-03",
          "2019-04-04",
          "2019-04-05",
          "2019-04-06",
          "2019-04-07",
          "2019-04-08",
          "2019-04-09",
          "2019-04-10",
          "2019-04-11",
          "2019-04-12",
          "2019-04-13",
          "2019-04-14",
          "2019-04-15",
          "2019-04-16"
         ],
         "y": [
          362,
          366,
          304,
          368,
          432,
          300,
          297,
          311,
          351,
          347,
          351,
          315,
          273,
          284,
          325,
          497
         ]
        },
        {
         "name": "view",
         "type": "scatter",
         "uid": "79fd7437-4373-4488-a3ce-b83e902ee79c",
         "x": [
          "2019-04-01",
          "2019-04-02",
          "2019-04-03",
          "2019-04-04",
          "2019-04-05",
          "2019-04-06",
          "2019-04-07",
          "2019-04-08",
          "2019-04-09",
          "2019-04-10",
          "2019-04-11",
          "2019-04-12",
          "2019-04-13",
          "2019-04-14",
          "2019-04-15",
          "2019-04-16"
         ],
         "y": [
          2983,
          3005,
          3216,
          2869,
          2685,
          2078,
          2284,
          7046,
          5828,
          4842,
          16097,
          8585,
          9299,
          6832,
          5390,
          4936
         ]
        }
       ],
       "layout": {
        "title": {
         "text": "Динамика количества действий с рекламными объявлениями"
        }
       }
      },
      "text/html": [
       "<div>\n",
       "        \n",
       "        \n",
       "            <div id=\"668058d1-a574-4f89-ba27-8ed0df41319c\" class=\"plotly-graph-div\" style=\"height:525px; width:100%;\"></div>\n",
       "            <script type=\"text/javascript\">\n",
       "                require([\"plotly\"], function(Plotly) {\n",
       "                    window.PLOTLYENV=window.PLOTLYENV || {};\n",
       "                    window.PLOTLYENV.BASE_URL='https://plot.ly';\n",
       "                    \n",
       "                if (document.getElementById(\"668058d1-a574-4f89-ba27-8ed0df41319c\")) {\n",
       "                    Plotly.newPlot(\n",
       "                        '668058d1-a574-4f89-ba27-8ed0df41319c',\n",
       "                        [{\"name\": \"click\", \"type\": \"scatter\", \"uid\": \"194793d7-5b20-40fb-9a8c-240635cfd1d4\", \"x\": [\"2019-04-01\", \"2019-04-02\", \"2019-04-03\", \"2019-04-04\", \"2019-04-05\", \"2019-04-06\", \"2019-04-07\", \"2019-04-08\", \"2019-04-09\", \"2019-04-10\", \"2019-04-11\", \"2019-04-12\", \"2019-04-13\", \"2019-04-14\", \"2019-04-15\", \"2019-04-16\"], \"y\": [1827, 1898, 1837, 1871, 2188, 1577, 1510, 1545, 1784, 1909, 1811, 1840, 1427, 1540, 1742, 2333]}, {\"name\": \"report\", \"type\": \"scatter\", \"uid\": \"ae5cb383-1cf6-45bd-a0ab-7d931eda2d93\", \"x\": [\"2019-04-01\", \"2019-04-02\", \"2019-04-03\", \"2019-04-04\", \"2019-04-05\", \"2019-04-06\", \"2019-04-07\", \"2019-04-08\", \"2019-04-09\", \"2019-04-10\", \"2019-04-11\", \"2019-04-12\", \"2019-04-13\", \"2019-04-14\", \"2019-04-15\", \"2019-04-16\"], \"y\": [362, 366, 304, 368, 432, 300, 297, 311, 351, 347, 351, 315, 273, 284, 325, 497]}, {\"name\": \"view\", \"type\": \"scatter\", \"uid\": \"072313a1-f24c-4861-87cd-3d489803971e\", \"x\": [\"2019-04-01\", \"2019-04-02\", \"2019-04-03\", \"2019-04-04\", \"2019-04-05\", \"2019-04-06\", \"2019-04-07\", \"2019-04-08\", \"2019-04-09\", \"2019-04-10\", \"2019-04-11\", \"2019-04-12\", \"2019-04-13\", \"2019-04-14\", \"2019-04-15\", \"2019-04-16\"], \"y\": [2983, 3005, 3216, 2869, 2685, 2078, 2284, 7046, 5828, 4842, 16097, 8585, 9299, 6832, 5390, 4936]}],\n",
       "                        {\"title\": {\"text\": \"\\u0414\\u0438\\u043d\\u0430\\u043c\\u0438\\u043a\\u0430 \\u043a\\u043e\\u043b\\u0438\\u0447\\u0435\\u0441\\u0442\\u0432\\u0430 \\u0434\\u0435\\u0439\\u0441\\u0442\\u0432\\u0438\\u0439 \\u0441 \\u0440\\u0435\\u043a\\u043b\\u0430\\u043c\\u043d\\u044b\\u043c\\u0438 \\u043e\\u0431\\u044a\\u044f\\u0432\\u043b\\u0435\\u043d\\u0438\\u044f\\u043c\\u0438\"}},\n",
       "                        {\"showLink\": false, \"linkText\": \"Export to plot.ly\", \"plotlyServerURL\": \"https://plot.ly\", \"responsive\": true}\n",
       "                    ).then(function(){\n",
       "                            \n",
       "var gd = document.getElementById('668058d1-a574-4f89-ba27-8ed0df41319c');\n",
       "var x = new MutationObserver(function (mutations, observer) {{\n",
       "        var display = window.getComputedStyle(gd).display;\n",
       "        if (!display || display === 'none') {{\n",
       "            console.log([gd, 'removed!']);\n",
       "            Plotly.purge(gd);\n",
       "            observer.disconnect();\n",
       "        }}\n",
       "}});\n",
       "\n",
       "// Listen for the removal of the full notebook cells\n",
       "var notebookContainer = gd.closest('#notebook-container');\n",
       "if (notebookContainer) {{\n",
       "    x.observe(notebookContainer, {childList: true});\n",
       "}}\n",
       "\n",
       "// Listen for the clearing of the current output cell\n",
       "var outputEl = gd.closest('.output');\n",
       "if (outputEl) {{\n",
       "    x.observe(outputEl, {childList: true});\n",
       "}}\n",
       "\n",
       "                        })\n",
       "                };\n",
       "                });\n",
       "            </script>\n",
       "        </div>"
      ]
     },
     "metadata": {},
     "output_type": "display_data"
    }
   ],
   "source": [
    "detalized_graphs(df, 'event', 'date', 'n_events', 'Динамика количества действий с рекламными объявлениями')"
   ]
  },
  {
   "cell_type": "code",
   "execution_count": 9,
   "metadata": {},
   "outputs": [],
   "source": [
    "apr11_views = data[(data['date'] == '2019-04-11')&(data['event'] == 'view')]"
   ]
  },
  {
   "cell_type": "code",
   "execution_count": 10,
   "metadata": {},
   "outputs": [
    {
     "name": "stdout",
     "output_type": "stream",
     "text": [
      "Статистика по показам объявлений на 11 апреля\n"
     ]
    },
    {
     "data": {
      "text/plain": [
       "count     879.000000\n",
       "mean       18.312856\n",
       "std       345.487403\n",
       "min         1.000000\n",
       "25%         1.000000\n",
       "50%         1.000000\n",
       "75%         2.000000\n",
       "max      9631.000000\n",
       "dtype: float64"
      ]
     },
     "execution_count": 10,
     "metadata": {},
     "output_type": "execute_result"
    }
   ],
   "source": [
    "print(\"Статистика по показам объявлений на 11 апреля\")\n",
    "apr11_views.groupby('ad_id').size().describe()"
   ]
  },
  {
   "cell_type": "markdown",
   "metadata": {},
   "source": [
    "Мы видим, что самое часто просматриваемое объявление было показано 11 апреля 9631 раз, в то время, как 75% объявлений было показано не более 2 раз."
   ]
  },
  {
   "cell_type": "code",
   "execution_count": 11,
   "metadata": {},
   "outputs": [
    {
     "name": "stdout",
     "output_type": "stream",
     "text": [
      "Топ-10 самых просматриваемых объявлений 11 апреля\n"
     ]
    },
    {
     "data": {
      "text/plain": [
       "ad_id\n",
       "ad_49554    9631\n",
       "ad_49556    3454\n",
       "ad_49560     512\n",
       "ad_49564     334\n",
       "ad_388       101\n",
       "ad_47269      79\n",
       "ad_99303      69\n",
       "ad_387        42\n",
       "ad_1181       38\n",
       "ad_3021       26\n",
       "dtype: int64"
      ]
     },
     "execution_count": 11,
     "metadata": {},
     "output_type": "execute_result"
    }
   ],
   "source": [
    "print(\"Топ-10 самых просматриваемых объявлений 11 апреля\")\n",
    "apr11_views.groupby('ad_id').size().sort_values(ascending = False).head(10)"
   ]
  },
  {
   "cell_type": "code",
   "execution_count": 12,
   "metadata": {},
   "outputs": [
    {
     "data": {
      "text/html": [
       "<div>\n",
       "<style>\n",
       "    .dataframe thead tr:only-child th {\n",
       "        text-align: right;\n",
       "    }\n",
       "\n",
       "    .dataframe thead th {\n",
       "        text-align: left;\n",
       "    }\n",
       "\n",
       "    .dataframe tbody tr th {\n",
       "        vertical-align: top;\n",
       "    }\n",
       "</style>\n",
       "<table border=\"1\" class=\"dataframe\">\n",
       "  <thead>\n",
       "    <tr style=\"text-align: right;\">\n",
       "      <th></th>\n",
       "      <th>time</th>\n",
       "      <th>event</th>\n",
       "      <th>ad_cost_type</th>\n",
       "      <th>has_video</th>\n",
       "      <th>agency_union_id</th>\n",
       "      <th>client_union_id</th>\n",
       "      <th>campaign_union_id</th>\n",
       "      <th>ad_id</th>\n",
       "      <th>platform</th>\n",
       "      <th>date</th>\n",
       "    </tr>\n",
       "  </thead>\n",
       "  <tbody>\n",
       "    <tr>\n",
       "      <th>19</th>\n",
       "      <td>2019-04-11 22:30:01</td>\n",
       "      <td>view</td>\n",
       "      <td>CPC</td>\n",
       "      <td>0</td>\n",
       "      <td>agency_2</td>\n",
       "      <td>client_47270</td>\n",
       "      <td>campaign_49554</td>\n",
       "      <td>ad_49554</td>\n",
       "      <td>android</td>\n",
       "      <td>2019-04-11</td>\n",
       "    </tr>\n",
       "    <tr>\n",
       "      <th>25</th>\n",
       "      <td>2019-04-11 09:31:51</td>\n",
       "      <td>view</td>\n",
       "      <td>CPC</td>\n",
       "      <td>0</td>\n",
       "      <td>agency_2</td>\n",
       "      <td>client_47270</td>\n",
       "      <td>campaign_49554</td>\n",
       "      <td>ad_49560</td>\n",
       "      <td>android</td>\n",
       "      <td>2019-04-11</td>\n",
       "    </tr>\n",
       "    <tr>\n",
       "      <th>47</th>\n",
       "      <td>2019-04-11 17:42:32</td>\n",
       "      <td>view</td>\n",
       "      <td>CPC</td>\n",
       "      <td>0</td>\n",
       "      <td>agency_2</td>\n",
       "      <td>client_47270</td>\n",
       "      <td>campaign_49554</td>\n",
       "      <td>ad_49556</td>\n",
       "      <td>android</td>\n",
       "      <td>2019-04-11</td>\n",
       "    </tr>\n",
       "    <tr>\n",
       "      <th>115</th>\n",
       "      <td>2019-04-11 19:45:41</td>\n",
       "      <td>view</td>\n",
       "      <td>CPC</td>\n",
       "      <td>0</td>\n",
       "      <td>agency_2</td>\n",
       "      <td>client_47270</td>\n",
       "      <td>campaign_49554</td>\n",
       "      <td>ad_49564</td>\n",
       "      <td>iphone</td>\n",
       "      <td>2019-04-11</td>\n",
       "    </tr>\n",
       "  </tbody>\n",
       "</table>\n",
       "</div>"
      ],
      "text/plain": [
       "                   time event ad_cost_type  has_video agency_union_id  \\\n",
       "19  2019-04-11 22:30:01  view          CPC          0        agency_2   \n",
       "25  2019-04-11 09:31:51  view          CPC          0        agency_2   \n",
       "47  2019-04-11 17:42:32  view          CPC          0        agency_2   \n",
       "115 2019-04-11 19:45:41  view          CPC          0        agency_2   \n",
       "\n",
       "    client_union_id campaign_union_id     ad_id platform        date  \n",
       "19     client_47270    campaign_49554  ad_49554  android  2019-04-11  \n",
       "25     client_47270    campaign_49554  ad_49560  android  2019-04-11  \n",
       "47     client_47270    campaign_49554  ad_49556  android  2019-04-11  \n",
       "115    client_47270    campaign_49554  ad_49564   iphone  2019-04-11  "
      ]
     },
     "execution_count": 12,
     "metadata": {},
     "output_type": "execute_result"
    }
   ],
   "source": [
    "apr11_views[apr11_views['ad_id'].isin(['ad_49554','ad_49556','ad_49560','ad_49564'])].drop_duplicates('ad_id')"
   ]
  },
  {
   "cell_type": "markdown",
   "metadata": {},
   "source": [
    "Первые 4 объявления (а особенно, топ-2) явно выбиваются и все они принадлежат одному рекламному агенству 'agency_2' и клиенту, и одной и той же рекламной кампании. Посмотрим детальнее на статистику по этой рекламной компании. "
   ]
  },
  {
   "cell_type": "code",
   "execution_count": 13,
   "metadata": {
    "collapsed": true
   },
   "outputs": [],
   "source": [
    "suspected_ads_data = data[(data['event'] == 'view')& (data['campaign_union_id'] == 'campaign_49554')].groupby(['date', 'ad_id']).size().reset_index(name='views')"
   ]
  },
  {
   "cell_type": "code",
   "execution_count": 14,
   "metadata": {},
   "outputs": [
    {
     "data": {
      "application/vnd.plotly.v1+json": {
       "config": {
        "linkText": "Export to plot.ly",
        "plotlyServerURL": "https://plot.ly",
        "responsive": true,
        "showLink": false
       },
       "data": [
        {
         "name": "ad_49560",
         "type": "scatter",
         "uid": "26934998-9fc7-4a63-a8de-e7e41b525568",
         "x": [
          "2019-04-05",
          "2019-04-08",
          "2019-04-09",
          "2019-04-10",
          "2019-04-11",
          "2019-04-12",
          "2019-04-13",
          "2019-04-14",
          "2019-04-15",
          "2019-04-16"
         ],
         "y": [
          117,
          2939,
          1863,
          1033,
          512,
          193,
          170,
          211,
          197,
          254
         ]
        },
        {
         "name": "ad_49564",
         "type": "scatter",
         "uid": "ac2800b2-6884-4feb-b627-ce9e53816b54",
         "x": [
          "2019-04-05",
          "2019-04-08",
          "2019-04-09",
          "2019-04-10",
          "2019-04-11",
          "2019-04-12",
          "2019-04-13",
          "2019-04-14",
          "2019-04-15",
          "2019-04-16"
         ],
         "y": [
          94,
          1437,
          1012,
          683,
          334,
          145,
          148,
          205,
          165,
          263
         ]
        },
        {
         "name": "ad_49556",
         "type": "scatter",
         "uid": "213bbce8-faee-4e81-9a30-bd5c52a68a7f",
         "x": [
          "2019-04-11",
          "2019-04-12",
          "2019-04-13",
          "2019-04-14",
          "2019-04-15",
          "2019-04-16"
         ],
         "y": [
          3454,
          1490,
          999,
          804,
          552,
          916
         ]
        },
        {
         "name": "ad_49554",
         "type": "scatter",
         "uid": "1afcb739-3e79-4853-9f16-da7d2e76e2c6",
         "x": [
          "2019-04-10",
          "2019-04-11",
          "2019-04-12",
          "2019-04-13",
          "2019-04-14",
          "2019-04-15",
          "2019-04-16"
         ],
         "y": [
          272,
          9631,
          4859,
          6270,
          3688,
          2356,
          388
         ]
        },
        {
         "name": "ad_50872",
         "type": "scatter",
         "uid": "f281dbf3-3e2a-4aca-8e14-39aee1c786db",
         "x": [
          "2019-04-16"
         ],
         "y": [
          34
         ]
        }
       ],
       "layout": {
        "title": {
         "text": "Динамика количества показов объявлений рекламной кампании с id 49554"
        }
       }
      },
      "text/html": [
       "<div>\n",
       "        \n",
       "        \n",
       "            <div id=\"1a4e477f-d01f-4a94-a3ad-5167cff83e77\" class=\"plotly-graph-div\" style=\"height:525px; width:100%;\"></div>\n",
       "            <script type=\"text/javascript\">\n",
       "                require([\"plotly\"], function(Plotly) {\n",
       "                    window.PLOTLYENV=window.PLOTLYENV || {};\n",
       "                    window.PLOTLYENV.BASE_URL='https://plot.ly';\n",
       "                    \n",
       "                if (document.getElementById(\"1a4e477f-d01f-4a94-a3ad-5167cff83e77\")) {\n",
       "                    Plotly.newPlot(\n",
       "                        '1a4e477f-d01f-4a94-a3ad-5167cff83e77',\n",
       "                        [{\"name\": \"ad_49560\", \"type\": \"scatter\", \"uid\": \"f12c6df2-b89a-4a09-b6ac-2a46439657ae\", \"x\": [\"2019-04-05\", \"2019-04-08\", \"2019-04-09\", \"2019-04-10\", \"2019-04-11\", \"2019-04-12\", \"2019-04-13\", \"2019-04-14\", \"2019-04-15\", \"2019-04-16\"], \"y\": [117, 2939, 1863, 1033, 512, 193, 170, 211, 197, 254]}, {\"name\": \"ad_49564\", \"type\": \"scatter\", \"uid\": \"edac0fc8-c8e9-4aa1-ad3d-50e05b3d91a5\", \"x\": [\"2019-04-05\", \"2019-04-08\", \"2019-04-09\", \"2019-04-10\", \"2019-04-11\", \"2019-04-12\", \"2019-04-13\", \"2019-04-14\", \"2019-04-15\", \"2019-04-16\"], \"y\": [94, 1437, 1012, 683, 334, 145, 148, 205, 165, 263]}, {\"name\": \"ad_49556\", \"type\": \"scatter\", \"uid\": \"44b613ca-5098-4bb9-9e8c-a35187cd50b8\", \"x\": [\"2019-04-11\", \"2019-04-12\", \"2019-04-13\", \"2019-04-14\", \"2019-04-15\", \"2019-04-16\"], \"y\": [3454, 1490, 999, 804, 552, 916]}, {\"name\": \"ad_49554\", \"type\": \"scatter\", \"uid\": \"e69f59c3-d56d-410b-9594-50f8e11355ad\", \"x\": [\"2019-04-10\", \"2019-04-11\", \"2019-04-12\", \"2019-04-13\", \"2019-04-14\", \"2019-04-15\", \"2019-04-16\"], \"y\": [272, 9631, 4859, 6270, 3688, 2356, 388]}, {\"name\": \"ad_50872\", \"type\": \"scatter\", \"uid\": \"698c610d-941f-4d67-916f-dfeeff04d06d\", \"x\": [\"2019-04-16\"], \"y\": [34]}],\n",
       "                        {\"title\": {\"text\": \"\\u0414\\u0438\\u043d\\u0430\\u043c\\u0438\\u043a\\u0430 \\u043a\\u043e\\u043b\\u0438\\u0447\\u0435\\u0441\\u0442\\u0432\\u0430 \\u043f\\u043e\\u043a\\u0430\\u0437\\u043e\\u0432 \\u043e\\u0431\\u044a\\u044f\\u0432\\u043b\\u0435\\u043d\\u0438\\u0439 \\u0440\\u0435\\u043a\\u043b\\u0430\\u043c\\u043d\\u043e\\u0439 \\u043a\\u0430\\u043c\\u043f\\u0430\\u043d\\u0438\\u0438 \\u0441 id 49554\"}},\n",
       "                        {\"showLink\": false, \"linkText\": \"Export to plot.ly\", \"plotlyServerURL\": \"https://plot.ly\", \"responsive\": true}\n",
       "                    ).then(function(){\n",
       "                            \n",
       "var gd = document.getElementById('1a4e477f-d01f-4a94-a3ad-5167cff83e77');\n",
       "var x = new MutationObserver(function (mutations, observer) {{\n",
       "        var display = window.getComputedStyle(gd).display;\n",
       "        if (!display || display === 'none') {{\n",
       "            console.log([gd, 'removed!']);\n",
       "            Plotly.purge(gd);\n",
       "            observer.disconnect();\n",
       "        }}\n",
       "}});\n",
       "\n",
       "// Listen for the removal of the full notebook cells\n",
       "var notebookContainer = gd.closest('#notebook-container');\n",
       "if (notebookContainer) {{\n",
       "    x.observe(notebookContainer, {childList: true});\n",
       "}}\n",
       "\n",
       "// Listen for the clearing of the current output cell\n",
       "var outputEl = gd.closest('.output');\n",
       "if (outputEl) {{\n",
       "    x.observe(outputEl, {childList: true});\n",
       "}}\n",
       "\n",
       "                        })\n",
       "                };\n",
       "                });\n",
       "            </script>\n",
       "        </div>"
      ]
     },
     "metadata": {},
     "output_type": "display_data"
    }
   ],
   "source": [
    "detalized_graphs(suspected_ads_data, 'ad_id', 'date', 'views', 'Динамика количества показов объявлений рекламной кампании с id 49554')"
   ]
  },
  {
   "cell_type": "markdown",
   "metadata": {},
   "source": [
    "Рассмотрим детальнее аномальное объявление - ad_49554"
   ]
  },
  {
   "cell_type": "code",
   "execution_count": 15,
   "metadata": {},
   "outputs": [],
   "source": [
    "suspected_ads_data = data[(data['event'] == 'view')& (data['ad_id'] == 'ad_49554')].groupby(['date', 'platform']).size().reset_index(name='views')"
   ]
  },
  {
   "cell_type": "code",
   "execution_count": 16,
   "metadata": {},
   "outputs": [
    {
     "data": {
      "application/vnd.plotly.v1+json": {
       "config": {
        "linkText": "Export to plot.ly",
        "plotlyServerURL": "https://plot.ly",
        "responsive": true,
        "showLink": false
       },
       "data": [
        {
         "name": "iphone",
         "type": "scatter",
         "uid": "4753b565-002e-4e14-bab3-947c95683960",
         "x": [
          "2019-04-10",
          "2019-04-11",
          "2019-04-12",
          "2019-04-13",
          "2019-04-14",
          "2019-04-15",
          "2019-04-16"
         ],
         "y": [
          26,
          949,
          313,
          471,
          285,
          137,
          13
         ]
        },
        {
         "name": "web",
         "type": "scatter",
         "uid": "2ea10492-fafa-49f2-b92e-cdfe7d69ebaa",
         "x": [
          "2019-04-10",
          "2019-04-11",
          "2019-04-12",
          "2019-04-13",
          "2019-04-14",
          "2019-04-15",
          "2019-04-16"
         ],
         "y": [
          18,
          842,
          341,
          370,
          257,
          225,
          48
         ]
        },
        {
         "name": "android",
         "type": "scatter",
         "uid": "95f02b39-577a-4c33-abf6-f92e2b483cc5",
         "x": [
          "2019-04-10",
          "2019-04-11",
          "2019-04-12",
          "2019-04-13",
          "2019-04-14",
          "2019-04-15",
          "2019-04-16"
         ],
         "y": [
          193,
          7080,
          3830,
          4944,
          2861,
          1806,
          301
         ]
        },
        {
         "name": "mvk",
         "type": "scatter",
         "uid": "a64188a2-7ac7-4e9e-b244-77211c222d7c",
         "x": [
          "2019-04-10",
          "2019-04-11",
          "2019-04-12",
          "2019-04-13",
          "2019-04-14",
          "2019-04-15",
          "2019-04-16"
         ],
         "y": [
          35,
          760,
          375,
          485,
          285,
          188,
          26
         ]
        }
       ],
       "layout": {
        "title": {
         "text": "Динамика количества показов объявления 49554 в разбивке по типу платформы пользователей"
        }
       }
      },
      "text/html": [
       "<div>\n",
       "        \n",
       "        \n",
       "            <div id=\"245919a3-61c4-43fb-a3f1-142addba5499\" class=\"plotly-graph-div\" style=\"height:525px; width:100%;\"></div>\n",
       "            <script type=\"text/javascript\">\n",
       "                require([\"plotly\"], function(Plotly) {\n",
       "                    window.PLOTLYENV=window.PLOTLYENV || {};\n",
       "                    window.PLOTLYENV.BASE_URL='https://plot.ly';\n",
       "                    \n",
       "                if (document.getElementById(\"245919a3-61c4-43fb-a3f1-142addba5499\")) {\n",
       "                    Plotly.newPlot(\n",
       "                        '245919a3-61c4-43fb-a3f1-142addba5499',\n",
       "                        [{\"name\": \"iphone\", \"type\": \"scatter\", \"uid\": \"6469f0eb-6c70-48d7-96bc-5faf3e9532b7\", \"x\": [\"2019-04-10\", \"2019-04-11\", \"2019-04-12\", \"2019-04-13\", \"2019-04-14\", \"2019-04-15\", \"2019-04-16\"], \"y\": [26, 949, 313, 471, 285, 137, 13]}, {\"name\": \"web\", \"type\": \"scatter\", \"uid\": \"39f57904-7157-4b0a-b4d8-f6ef3c68f8da\", \"x\": [\"2019-04-10\", \"2019-04-11\", \"2019-04-12\", \"2019-04-13\", \"2019-04-14\", \"2019-04-15\", \"2019-04-16\"], \"y\": [18, 842, 341, 370, 257, 225, 48]}, {\"name\": \"android\", \"type\": \"scatter\", \"uid\": \"43bf12b8-f9a5-494d-ac83-5f49c73d1a0d\", \"x\": [\"2019-04-10\", \"2019-04-11\", \"2019-04-12\", \"2019-04-13\", \"2019-04-14\", \"2019-04-15\", \"2019-04-16\"], \"y\": [193, 7080, 3830, 4944, 2861, 1806, 301]}, {\"name\": \"mvk\", \"type\": \"scatter\", \"uid\": \"cee42477-1962-40bd-a78e-163f082b8e7a\", \"x\": [\"2019-04-10\", \"2019-04-11\", \"2019-04-12\", \"2019-04-13\", \"2019-04-14\", \"2019-04-15\", \"2019-04-16\"], \"y\": [35, 760, 375, 485, 285, 188, 26]}],\n",
       "                        {\"title\": {\"text\": \"\\u0414\\u0438\\u043d\\u0430\\u043c\\u0438\\u043a\\u0430 \\u043a\\u043e\\u043b\\u0438\\u0447\\u0435\\u0441\\u0442\\u0432\\u0430 \\u043f\\u043e\\u043a\\u0430\\u0437\\u043e\\u0432 \\u043e\\u0431\\u044a\\u044f\\u0432\\u043b\\u0435\\u043d\\u0438\\u044f 49554 \\u0432 \\u0440\\u0430\\u0437\\u0431\\u0438\\u0432\\u043a\\u0435 \\u043f\\u043e \\u0442\\u0438\\u043f\\u0443 \\u043f\\u043b\\u0430\\u0442\\u0444\\u043e\\u0440\\u043c\\u044b \\u043f\\u043e\\u043b\\u044c\\u0437\\u043e\\u0432\\u0430\\u0442\\u0435\\u043b\\u0435\\u0439\"}},\n",
       "                        {\"showLink\": false, \"linkText\": \"Export to plot.ly\", \"plotlyServerURL\": \"https://plot.ly\", \"responsive\": true}\n",
       "                    ).then(function(){\n",
       "                            \n",
       "var gd = document.getElementById('245919a3-61c4-43fb-a3f1-142addba5499');\n",
       "var x = new MutationObserver(function (mutations, observer) {{\n",
       "        var display = window.getComputedStyle(gd).display;\n",
       "        if (!display || display === 'none') {{\n",
       "            console.log([gd, 'removed!']);\n",
       "            Plotly.purge(gd);\n",
       "            observer.disconnect();\n",
       "        }}\n",
       "}});\n",
       "\n",
       "// Listen for the removal of the full notebook cells\n",
       "var notebookContainer = gd.closest('#notebook-container');\n",
       "if (notebookContainer) {{\n",
       "    x.observe(notebookContainer, {childList: true});\n",
       "}}\n",
       "\n",
       "// Listen for the clearing of the current output cell\n",
       "var outputEl = gd.closest('.output');\n",
       "if (outputEl) {{\n",
       "    x.observe(outputEl, {childList: true});\n",
       "}}\n",
       "\n",
       "                        })\n",
       "                };\n",
       "                });\n",
       "            </script>\n",
       "        </div>"
      ]
     },
     "metadata": {},
     "output_type": "display_data"
    }
   ],
   "source": [
    "detalized_graphs(suspected_ads_data, 'platform', 'date', 'views', 'Динамика количества показов объявления 49554 в разбивке по типу платформы пользователей')"
   ]
  },
  {
   "cell_type": "markdown",
   "metadata": {},
   "source": [
    "Не труднозаметить, что показы на платформе Android явно выбиваются"
   ]
  },
  {
   "cell_type": "code",
   "execution_count": 17,
   "metadata": {
    "collapsed": true
   },
   "outputs": [],
   "source": [
    "suspected_ads_data = data[(data['ad_id'] == 'ad_49554') & (data['event'] == 'view') &(data['platform'] == 'android')]"
   ]
  },
  {
   "cell_type": "code",
   "execution_count": 18,
   "metadata": {},
   "outputs": [
    {
     "data": {
      "text/plain": [
       "array(['CPC'], dtype=object)"
      ]
     },
     "execution_count": 18,
     "metadata": {},
     "output_type": "execute_result"
    }
   ],
   "source": [
    "suspected_ads_data['ad_cost_type'].unique()"
   ]
  },
  {
   "cell_type": "code",
   "execution_count": 19,
   "metadata": {
    "scrolled": true
   },
   "outputs": [
    {
     "data": {
      "text/plain": [
       "array([0])"
      ]
     },
     "execution_count": 19,
     "metadata": {},
     "output_type": "execute_result"
    }
   ],
   "source": [
    "suspected_ads_data['has_video'].unique()"
   ]
  },
  {
   "cell_type": "markdown",
   "metadata": {},
   "source": [
    "Агент платил за данное рекламное объявление по принципу \"траты за клик\" и внем не было видео."
   ]
  },
  {
   "cell_type": "code",
   "execution_count": 20,
   "metadata": {},
   "outputs": [
    {
     "data": {
      "application/vnd.plotly.v1+json": {
       "config": {
        "linkText": "Export to plot.ly",
        "plotlyServerURL": "https://plot.ly",
        "responsive": true,
        "showLink": false
       },
       "data": [
        {
         "name": "2019-04-15",
         "type": "scatter",
         "uid": "42bd17c3-bd61-4f0c-aca2-958a0c9522eb",
         "x": [
          "00",
          "01",
          "02",
          "03",
          "04",
          "05",
          "06",
          "07",
          "08",
          "09",
          "10",
          "11",
          "12",
          "13",
          "14",
          "15",
          "16",
          "17",
          "18",
          "19",
          "20",
          "21",
          "22",
          "23"
         ],
         "y": [
          109,
          93,
          81,
          31,
          6,
          14,
          3,
          16,
          49,
          73,
          108,
          96,
          101,
          100,
          116,
          86,
          79,
          77,
          78,
          80,
          73,
          97,
          132,
          108
         ]
        },
        {
         "name": "2019-04-14",
         "type": "scatter",
         "uid": "5c06fc15-0ea6-4544-9135-69f793317b62",
         "x": [
          "00",
          "01",
          "02",
          "03",
          "04",
          "05",
          "06",
          "07",
          "08",
          "09",
          "10",
          "11",
          "12",
          "13",
          "14",
          "15",
          "16",
          "17",
          "18",
          "19",
          "20",
          "21",
          "22",
          "23"
         ],
         "y": [
          186,
          159,
          114,
          40,
          11,
          11,
          7,
          26,
          53,
          99,
          142,
          167,
          150,
          161,
          160,
          145,
          148,
          150,
          150,
          136,
          167,
          151,
          152,
          176
         ]
        },
        {
         "name": "2019-04-13",
         "type": "scatter",
         "uid": "8050408e-22c2-49a2-b627-1ff209528e2c",
         "x": [
          "00",
          "01",
          "02",
          "03",
          "04",
          "05",
          "06",
          "07",
          "08",
          "09",
          "10",
          "11",
          "12",
          "13",
          "14",
          "15",
          "16",
          "17",
          "18",
          "19",
          "20",
          "21",
          "22",
          "23"
         ],
         "y": [
          215,
          203,
          153,
          66,
          10,
          23,
          46,
          66,
          126,
          205,
          324,
          347,
          334,
          279,
          276,
          288,
          291,
          270,
          264,
          244,
          237,
          231,
          215,
          231
         ]
        },
        {
         "name": "2019-04-11",
         "type": "scatter",
         "uid": "b8c5f443-7166-445c-9130-c5bcf1ad801b",
         "x": [
          "00",
          "01",
          "02",
          "12",
          "13",
          "14",
          "15",
          "16",
          "17",
          "18",
          "19",
          "20",
          "21",
          "22",
          "23"
         ],
         "y": [
          360,
          306,
          205,
          153,
          833,
          858,
          769,
          693,
          632,
          538,
          335,
          325,
          378,
          330,
          365
         ]
        },
        {
         "name": "2019-04-16",
         "type": "scatter",
         "uid": "3720fd5c-bfd4-4375-93b7-39278ab4e25f",
         "x": [
          "03",
          "04",
          "05",
          "06",
          "07",
          "08",
          "09",
          "10",
          "11",
          "12",
          "13",
          "14",
          "15",
          "17",
          "21"
         ],
         "y": [
          15,
          4,
          2,
          7,
          12,
          21,
          39,
          47,
          49,
          26,
          44,
          32,
          1,
          1,
          1
         ]
        },
        {
         "name": "2019-04-10",
         "type": "scatter",
         "uid": "37862288-63cd-4c43-a722-b2b4737b6905",
         "x": [
          "00",
          "21",
          "22"
         ],
         "y": [
          1,
          20,
          172
         ]
        },
        {
         "name": "2019-04-12",
         "type": "scatter",
         "uid": "76bd94c2-e3c7-4367-9a4a-972462f63e4a",
         "x": [
          "00",
          "01",
          "02",
          "03",
          "04",
          "05",
          "06",
          "07",
          "08",
          "09",
          "10",
          "11",
          "12",
          "13",
          "14",
          "15",
          "16",
          "17",
          "18",
          "19",
          "20",
          "21",
          "22",
          "23"
         ],
         "y": [
          356,
          364,
          256,
          41,
          11,
          11,
          16,
          37,
          60,
          126,
          172,
          206,
          215,
          175,
          223,
          186,
          172,
          163,
          175,
          157,
          165,
          181,
          202,
          160
         ]
        }
       ],
       "layout": {
        "title": {
         "text": "Динамика количества показов объявления 49554 на платформе Android по часам"
        }
       }
      },
      "text/html": [
       "<div>\n",
       "        \n",
       "        \n",
       "            <div id=\"dc6e08c5-5fd9-41da-ac19-789aab1ee6a6\" class=\"plotly-graph-div\" style=\"height:525px; width:100%;\"></div>\n",
       "            <script type=\"text/javascript\">\n",
       "                require([\"plotly\"], function(Plotly) {\n",
       "                    window.PLOTLYENV=window.PLOTLYENV || {};\n",
       "                    window.PLOTLYENV.BASE_URL='https://plot.ly';\n",
       "                    \n",
       "                if (document.getElementById(\"dc6e08c5-5fd9-41da-ac19-789aab1ee6a6\")) {\n",
       "                    Plotly.newPlot(\n",
       "                        'dc6e08c5-5fd9-41da-ac19-789aab1ee6a6',\n",
       "                        [{\"name\": \"2019-04-15\", \"type\": \"scatter\", \"uid\": \"b4573787-3cee-4432-858a-ffa92fd9a308\", \"x\": [\"00\", \"01\", \"02\", \"03\", \"04\", \"05\", \"06\", \"07\", \"08\", \"09\", \"10\", \"11\", \"12\", \"13\", \"14\", \"15\", \"16\", \"17\", \"18\", \"19\", \"20\", \"21\", \"22\", \"23\"], \"y\": [109, 93, 81, 31, 6, 14, 3, 16, 49, 73, 108, 96, 101, 100, 116, 86, 79, 77, 78, 80, 73, 97, 132, 108]}, {\"name\": \"2019-04-14\", \"type\": \"scatter\", \"uid\": \"3186e22b-c561-447a-9312-e805640491bb\", \"x\": [\"00\", \"01\", \"02\", \"03\", \"04\", \"05\", \"06\", \"07\", \"08\", \"09\", \"10\", \"11\", \"12\", \"13\", \"14\", \"15\", \"16\", \"17\", \"18\", \"19\", \"20\", \"21\", \"22\", \"23\"], \"y\": [186, 159, 114, 40, 11, 11, 7, 26, 53, 99, 142, 167, 150, 161, 160, 145, 148, 150, 150, 136, 167, 151, 152, 176]}, {\"name\": \"2019-04-13\", \"type\": \"scatter\", \"uid\": \"1879758c-256a-4fed-a899-be6ddeb63a21\", \"x\": [\"00\", \"01\", \"02\", \"03\", \"04\", \"05\", \"06\", \"07\", \"08\", \"09\", \"10\", \"11\", \"12\", \"13\", \"14\", \"15\", \"16\", \"17\", \"18\", \"19\", \"20\", \"21\", \"22\", \"23\"], \"y\": [215, 203, 153, 66, 10, 23, 46, 66, 126, 205, 324, 347, 334, 279, 276, 288, 291, 270, 264, 244, 237, 231, 215, 231]}, {\"name\": \"2019-04-11\", \"type\": \"scatter\", \"uid\": \"469b552f-3ae7-4ed1-85f5-fd95d747471f\", \"x\": [\"00\", \"01\", \"02\", \"12\", \"13\", \"14\", \"15\", \"16\", \"17\", \"18\", \"19\", \"20\", \"21\", \"22\", \"23\"], \"y\": [360, 306, 205, 153, 833, 858, 769, 693, 632, 538, 335, 325, 378, 330, 365]}, {\"name\": \"2019-04-16\", \"type\": \"scatter\", \"uid\": \"55767da5-7c72-4237-bfb1-f46b408b7905\", \"x\": [\"03\", \"04\", \"05\", \"06\", \"07\", \"08\", \"09\", \"10\", \"11\", \"12\", \"13\", \"14\", \"15\", \"17\", \"21\"], \"y\": [15, 4, 2, 7, 12, 21, 39, 47, 49, 26, 44, 32, 1, 1, 1]}, {\"name\": \"2019-04-10\", \"type\": \"scatter\", \"uid\": \"bcc29891-4350-4480-bee4-e45c1d107583\", \"x\": [\"00\", \"21\", \"22\"], \"y\": [1, 20, 172]}, {\"name\": \"2019-04-12\", \"type\": \"scatter\", \"uid\": \"499fb204-57a7-4155-b01f-4b60b28b7ba9\", \"x\": [\"00\", \"01\", \"02\", \"03\", \"04\", \"05\", \"06\", \"07\", \"08\", \"09\", \"10\", \"11\", \"12\", \"13\", \"14\", \"15\", \"16\", \"17\", \"18\", \"19\", \"20\", \"21\", \"22\", \"23\"], \"y\": [356, 364, 256, 41, 11, 11, 16, 37, 60, 126, 172, 206, 215, 175, 223, 186, 172, 163, 175, 157, 165, 181, 202, 160]}],\n",
       "                        {\"title\": {\"text\": \"\\u0414\\u0438\\u043d\\u0430\\u043c\\u0438\\u043a\\u0430 \\u043a\\u043e\\u043b\\u0438\\u0447\\u0435\\u0441\\u0442\\u0432\\u0430 \\u043f\\u043e\\u043a\\u0430\\u0437\\u043e\\u0432 \\u043e\\u0431\\u044a\\u044f\\u0432\\u043b\\u0435\\u043d\\u0438\\u044f 49554 \\u043d\\u0430 \\u043f\\u043b\\u0430\\u0442\\u0444\\u043e\\u0440\\u043c\\u0435 Android \\u043f\\u043e \\u0447\\u0430\\u0441\\u0430\\u043c\"}},\n",
       "                        {\"showLink\": false, \"linkText\": \"Export to plot.ly\", \"plotlyServerURL\": \"https://plot.ly\", \"responsive\": true}\n",
       "                    ).then(function(){\n",
       "                            \n",
       "var gd = document.getElementById('dc6e08c5-5fd9-41da-ac19-789aab1ee6a6');\n",
       "var x = new MutationObserver(function (mutations, observer) {{\n",
       "        var display = window.getComputedStyle(gd).display;\n",
       "        if (!display || display === 'none') {{\n",
       "            console.log([gd, 'removed!']);\n",
       "            Plotly.purge(gd);\n",
       "            observer.disconnect();\n",
       "        }}\n",
       "}});\n",
       "\n",
       "// Listen for the removal of the full notebook cells\n",
       "var notebookContainer = gd.closest('#notebook-container');\n",
       "if (notebookContainer) {{\n",
       "    x.observe(notebookContainer, {childList: true});\n",
       "}}\n",
       "\n",
       "// Listen for the clearing of the current output cell\n",
       "var outputEl = gd.closest('.output');\n",
       "if (outputEl) {{\n",
       "    x.observe(outputEl, {childList: true});\n",
       "}}\n",
       "\n",
       "                        })\n",
       "                };\n",
       "                });\n",
       "            </script>\n",
       "        </div>"
      ]
     },
     "metadata": {},
     "output_type": "display_data"
    }
   ],
   "source": [
    "suspected_ads_data['time'] = suspected_ads_data['time'].apply(lambda x: dt.datetime.strftime(x, \"%H\"))\n",
    "suspected_ads_data = suspected_ads_data.groupby(['date','time']).size().reset_index(name = 'counts')\n",
    "\n",
    "detalized_graphs(suspected_ads_data, 'date', 'time', 'counts', 'Динамика количества показов объявления 49554 на платформе Android по часам')"
   ]
  },
  {
   "cell_type": "markdown",
   "metadata": {},
   "source": [
    "**Аномальное увеличение количества показов объявления 49554 произошло 11-го апреля в 13 часов, но с 14 до 19 часов тренд постепенно снижался. Однозначно назвать причину такого увеличения, имея только эти данные, сложно. Так как у нас нет уникальных id пользователей, просмотревших объявление, нельзя подтвердить гипотезу о дубликатах в логах. Для проверки данной гипотезы стоит выгрузить больше детализированных данных (с местами показов и пользователями) по просмотрам рекламы с id 49554 на платформе Android 11 апреля с 13 по 14 часов.Стоит также проверить настройки самой рекламы и активность пользователей VK в этот период. **"
   ]
  },
  {
   "cell_type": "markdown",
   "metadata": {},
   "source": [
    "## Способ, автоматической детектиции аномальных изменений метрик рекламной статистики."
   ]
  },
  {
   "cell_type": "markdown",
   "metadata": {},
   "source": [
    "Один из наиболее удобных способов автоматического детектирования аномальных изменений метрик рекламной статистики - настройка алертинга в BI-системах (н-р, в Tableau). Для этого нужно настроить real-time дашборд и в случае выполнения определенного условия (н-р, превышения метрикой определенной отметки), на почту пользователям дашборда будет приходить уведомление."
   ]
  },
  {
   "cell_type": "markdown",
   "metadata": {},
   "source": [
    "Другой способ - алгоритм, анализирующий статистику за конкретный интервал времени. Поскольку наданном графике сезонности по дням недели не наблюдается, за правило нотификации можем брать рост метрики более, чем на определенное количество % по сравнению со средним этой же метрики за предыдущие периоды. При наличии эффекта сезонности в данных (н-р по дням недели) это обязательно нужно это учитывать. Поскольку на данном графике сезонности не наблюдается, за правило возьмем среднее за 3 предыдущих дня. Однако это правило гибкое (его можно пересмотреть)."
   ]
  },
  {
   "cell_type": "code",
   "execution_count": 21,
   "metadata": {},
   "outputs": [],
   "source": [
    "# Алгоритм (функция проверки дня на наличие аномалий)\n",
    "\n",
    "def analyze_stats_per_interval(data, # анализируемые данные (должны иметь поле time - дата и в ремя в стандартном формате)\n",
    "                                     # должны включать в себя данные за 3 дня до анализируемого дня\n",
    "                               date, # анализируемый день (Если сегодня анализируем данные за вчерашний день, \n",
    "                                     # в поле date будет передаваться вчерашняя дата )\n",
    "                               min_interval, # анализируемый интервал времени в минутах\n",
    "                               anomaly_increase): # число в процентах, которое формирует \n",
    "                                                  # правило (уведомлять, если метрика отклонилась от нормы на столько %)\n",
    "    date_0 = pd.to_datetime(date)\n",
    "    date_1 = date_0 + timedelta(1)\n",
    "    date_2 = date_0 - timedelta(3)\n",
    "    daily_data = data[(data['time'] >= date_0) & (data['time'] < date_1)]\n",
    "    daily_data.set_index('time', inplace = True)\n",
    "    daily_data['count'] = 1\n",
    "    rule = str(min_interval)+'T'\n",
    "    agreg_data =  daily_data.resample(rule, label = 'left', closed = 'left', how = sum).bfill().reset_index()\n",
    "    interv_data = agreg_data['count'].tolist()\n",
    "    \n",
    "    three_days_before_data = data[(data['time'] >= date_2) & (data['time'] < date_0)]\n",
    "    three_days_before_data.set_index('time', inplace = True)\n",
    "    three_days_before_data['count'] = 1\n",
    "    agreg_data_3days =  three_days_before_data.resample(rule, label = 'left', closed = 'left', how = sum).bfill().reset_index()\n",
    "    agreg_data_3days['time'] = agreg_data_3days['time'].apply(lambda x: dt.datetime.strftime(x, '%H:%M:%S'))\n",
    "    \n",
    "    three_days_mean = agreg_data_3days.groupby('time').mean()['count'].tolist()\n",
    "    \n",
    "    anomaly_increase = anomaly_increase/100 + 1\n",
    "\n",
    "    benchmark_metric = [i*anomaly_increase for i in three_days_mean]\n",
    "    \n",
    "    probs = []\n",
    "    \n",
    "    for i in range(len(interv_data)):\n",
    "        if interv_data[i]>benchmark_metric[i]:\n",
    "            probs.append(dt.datetime.strftime(agreg_data['time'][i], '%H:%M:%S'))\n",
    "            \n",
    "    \n",
    "    return print(\"There is anomalies in metric starting from {} with {} minutes interval\".format(probs, min_interval))\n",
    " "
   ]
  },
  {
   "cell_type": "code",
   "execution_count": 22,
   "metadata": {},
   "outputs": [
    {
     "name": "stdout",
     "output_type": "stream",
     "text": [
      "There is anomalies in metric starting from ['12:00:00', '13:00:00', '14:00:00', '15:00:00', '16:00:00', '17:00:00', '18:00:00', '19:00:00', '20:00:00', '21:00:00', '22:00:00', '23:00:00'] with 60 minutes interval\n"
     ]
    }
   ],
   "source": [
    "analyze_stats_per_interval(data,'2019-04-11',60, 40) # Пример"
   ]
  },
  {
   "cell_type": "markdown",
   "metadata": {},
   "source": [
    "Если нужно проверять метрику каждые 5 минут, нужно в немного кастомизировать функцию и добавить туда ограничение не только по дате, но и по времени, и уже после настроить автозапуск функции на продакшене с помощью докера."
   ]
  }
 ],
 "metadata": {
  "kernelspec": {
   "display_name": "Python 3",
   "language": "python",
   "name": "python3"
  },
  "language_info": {
   "codemirror_mode": {
    "name": "ipython",
    "version": 3
   },
   "file_extension": ".py",
   "mimetype": "text/x-python",
   "name": "python",
   "nbconvert_exporter": "python",
   "pygments_lexer": "ipython3",
   "version": "3.6.1"
  },
  "varInspector": {
   "cols": {
    "lenName": 16,
    "lenType": 16,
    "lenVar": 40
   },
   "kernels_config": {
    "python": {
     "delete_cmd_postfix": "",
     "delete_cmd_prefix": "del ",
     "library": "var_list.py",
     "varRefreshCmd": "print(var_dic_list())"
    },
    "r": {
     "delete_cmd_postfix": ") ",
     "delete_cmd_prefix": "rm(",
     "library": "var_list.r",
     "varRefreshCmd": "cat(var_dic_list()) "
    }
   },
   "types_to_exclude": [
    "module",
    "function",
    "builtin_function_or_method",
    "instance",
    "_Feature"
   ],
   "window_display": false
  }
 },
 "nbformat": 4,
 "nbformat_minor": 2
}
